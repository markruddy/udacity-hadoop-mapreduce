{
 "cells": [
  {
   "cell_type": "code",
   "execution_count": null,
   "metadata": {
    "collapsed": true
   },
   "outputs": [],
   "source": [
    "# mapper\n",
    "\n",
    "import sys\n",
    "\n",
    "def mapper():\n",
    "    # read standard input line by line\n",
    "    for line in sys.stdin:\n",
    "        # strip off extra whitespace, split on tab and put the data in an array\n",
    "        data = line.strip().split(\"\\t\")\n",
    "\n",
    "        # This is the place you need to do some defensive programming\n",
    "        # what if there are not exactly 6 fields in that line?\n",
    "        # YOUR CODE HERE\n",
    "        if len(data) == 6:\n",
    "        # this next line is called 'multiple assignment' in Python\n",
    "        # this is not really necessary, we could access the data\n",
    "        # with data[2] and data[5], but we do this for conveniency\n",
    "        # and to make the code easier to read\n",
    "            date, time, store, item, cost, payment = data\n",
    "        \n",
    "        # Now print out the data that will be passed to the reducer\n",
    "            print \"{0}\\t{1}\".format(store, cost)"
   ]
  }
 ],
 "metadata": {
  "kernelspec": {
   "display_name": "Python 3",
   "language": "python",
   "name": "python3"
  },
  "language_info": {
   "codemirror_mode": {
    "name": "ipython",
    "version": 3
   },
   "file_extension": ".py",
   "mimetype": "text/x-python",
   "name": "python",
   "nbconvert_exporter": "python",
   "pygments_lexer": "ipython3",
   "version": "3.6.1"
  }
 },
 "nbformat": 4,
 "nbformat_minor": 2
}
