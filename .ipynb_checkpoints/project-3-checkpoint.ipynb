{
 "cells": [
  {
   "cell_type": "code",
   "execution_count": 19,
   "metadata": {
    "scrolled": true
   },
   "outputs": [
    {
     "data": {
      "text/html": [
       "<div>\n",
       "<table border=\"1\" class=\"dataframe\">\n",
       "  <thead>\n",
       "    <tr style=\"text-align: right;\">\n",
       "      <th></th>\n",
       "      <th>0</th>\n",
       "      <th>1</th>\n",
       "      <th>2</th>\n",
       "      <th>3</th>\n",
       "      <th>4</th>\n",
       "      <th>5</th>\n",
       "    </tr>\n",
       "  </thead>\n",
       "  <tbody>\n",
       "    <tr>\n",
       "      <th>0</th>\n",
       "      <td>2012-01-01</td>\n",
       "      <td>09:00</td>\n",
       "      <td>San Jose</td>\n",
       "      <td>Men's Clothing</td>\n",
       "      <td>214.05</td>\n",
       "      <td>Amex</td>\n",
       "    </tr>\n",
       "    <tr>\n",
       "      <th>1</th>\n",
       "      <td>2012-01-01</td>\n",
       "      <td>09:00</td>\n",
       "      <td>Fort Worth</td>\n",
       "      <td>Women's Clothing</td>\n",
       "      <td>153.57</td>\n",
       "      <td>Visa</td>\n",
       "    </tr>\n",
       "    <tr>\n",
       "      <th>2</th>\n",
       "      <td>2012-01-01</td>\n",
       "      <td>09:00</td>\n",
       "      <td>San Diego</td>\n",
       "      <td>Music</td>\n",
       "      <td>66.08</td>\n",
       "      <td>Cash</td>\n",
       "    </tr>\n",
       "    <tr>\n",
       "      <th>3</th>\n",
       "      <td>2012-01-01</td>\n",
       "      <td>09:00</td>\n",
       "      <td>Pittsburgh</td>\n",
       "      <td>Pet Supplies</td>\n",
       "      <td>493.51</td>\n",
       "      <td>Discover</td>\n",
       "    </tr>\n",
       "    <tr>\n",
       "      <th>4</th>\n",
       "      <td>2012-01-01</td>\n",
       "      <td>09:00</td>\n",
       "      <td>Omaha</td>\n",
       "      <td>Children's Clothing</td>\n",
       "      <td>235.63</td>\n",
       "      <td>MasterCard</td>\n",
       "    </tr>\n",
       "  </tbody>\n",
       "</table>\n",
       "</div>"
      ],
      "text/plain": [
       "            0      1           2                    3       4           5\n",
       "0  2012-01-01  09:00    San Jose       Men's Clothing  214.05        Amex\n",
       "1  2012-01-01  09:00  Fort Worth     Women's Clothing  153.57        Visa\n",
       "2  2012-01-01  09:00   San Diego                Music   66.08        Cash\n",
       "3  2012-01-01  09:00  Pittsburgh         Pet Supplies  493.51    Discover\n",
       "4  2012-01-01  09:00       Omaha  Children's Clothing  235.63  MasterCard"
      ]
     },
     "execution_count": 19,
     "metadata": {},
     "output_type": "execute_result"
    }
   ],
   "source": [
    "# Read in data and view\n",
    "from pandas import read_csv\n",
    "\n",
    "testdata = read_csv('./data/testfile', delimiter = '\\t', header=None)\n",
    "\n",
    "testdata.head()"
   ]
  },
  {
   "cell_type": "code",
   "execution_count": 28,
   "metadata": {},
   "outputs": [
    {
     "ename": "SyntaxError",
     "evalue": "invalid syntax (<ipython-input-28-b443c358a268>, line 8)",
     "output_type": "error",
     "traceback": [
      "\u001b[0;36m  File \u001b[0;32m\"<ipython-input-28-b443c358a268>\"\u001b[0;36m, line \u001b[0;32m8\u001b[0m\n\u001b[0;31m    print testdata.head()\u001b[0m\n\u001b[0m                 ^\u001b[0m\n\u001b[0;31mSyntaxError\u001b[0m\u001b[0;31m:\u001b[0m invalid syntax\n"
     ]
    }
   ],
   "source": [
    "# mapper for max value from key \n",
    "# delivers key=store and value=cost\n",
    "\n",
    "import sys\n",
    "\n",
    "# Loop over input\n",
    "\n",
    "# read standard input line by line\n",
    "for line in testdata: # sys.stdin\n",
    "    # strip off extra whitespace, split on tab and put the data in an array\n",
    "    data = line.strip().split(\"\\t\")\n",
    "\n",
    "    # Defensive programming\n",
    "    if len(data) == 6:\n",
    "    # multiple assignment\n",
    "        date, time, store, item, cost, payment = data\n",
    "    \n",
    "    # print out the data that will be passed to the reducer\n",
    "        print '{0}\\t{1}'.format(store, cost)"
   ]
  },
  {
   "cell_type": "code",
   "execution_count": null,
   "metadata": {},
   "outputs": [],
   "source": [
    "#!/usr/bin/python\n",
    "\n",
    "# Reducer to find the maximum value within a key\n",
    "# From stdin defensively programme for problem lines\n",
    "# Then use a groupby function to find the max value within a key-group \n",
    " \n",
    "import sys\n",
    "import pandas as pd\n",
    "\n",
    "salesMax = 0\n",
    "oldKey = None\n",
    "\n",
    "for line in sys.stdin:\n",
    "    data_mapped = line.strip().split(\"\\t\")\n",
    "    if len(data_mapped) != 2:\n",
    "        # Something has gone wrong. Skip this line.\n",
    "        continue\n",
    "\n",
    "    # Name elements of the array 'data_mapped'\n",
    "    thisKey, thisSale = data_mapped \n",
    "\n",
    "    # If oldKey has a value and value oldKey different to thisKey ie there's a newKey\n",
    "    if oldKey and oldKey != thisKey:\n",
    "\t# Then print the running total salesTotal for oldKey, and then make salesTotal zero \n",
    "        print oldKey, \"\\t\", salesTotal\n",
    "        oldKey = thisKey;\n",
    "        salesMax = 0\n",
    "    # Otherwise set thisKey to oldKey\n",
    "    if salesMax <= thisSale\n",
    "    oldKey = thisKey\n",
    "    # and add thisSale to the running total salesTotal\n",
    "    salesTotal += float(thisSale)\n",
    "\n",
    "# Capture last line to finish the loop \n",
    "if oldKey != None:\n",
    "    print oldKey, \"\\t\", salesTotal\n",
    "\n"
   ]
  }
 ],
 "metadata": {
  "kernelspec": {
   "display_name": "Python 3",
   "language": "python",
   "name": "python3"
  },
  "language_info": {
   "codemirror_mode": {
    "name": "ipython",
    "version": 3
   },
   "file_extension": ".py",
   "mimetype": "text/x-python",
   "name": "python",
   "nbconvert_exporter": "python",
   "pygments_lexer": "ipython3",
   "version": "3.6.1"
  }
 },
 "nbformat": 4,
 "nbformat_minor": 2
}
