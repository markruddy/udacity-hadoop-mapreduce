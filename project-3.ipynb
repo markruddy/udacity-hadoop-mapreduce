{
 "cells": [
  {
   "cell_type": "code",
   "execution_count": null,
   "metadata": {
    "collapsed": true
   },
   "outputs": [],
   "source": [
    "# test data\n",
    "\n",
    "\n",
    "\n",
    "# mapper\n",
    "\n",
    "import sys\n",
    "\n",
    "def mapper():\n",
    "    # read standard input line by line\n",
    "    for line in sys.stdin:\n",
    "        # strip off extra whitespace, split on tab and put the data in an array\n",
    "        data = line.strip().split(\"\\t\")\n",
    "\n",
    "        # Defensive programming\n",
    "        if len(data) == 6:\n",
    "        # multiple assignment\n",
    "            date, time, store, item, cost, payment = data\n",
    "        \n",
    "        # print out the data that will be passed to the reducer\n",
    "            print \"{0}\\t{1}\".format(store, cost)"
   ]
  }
 ],
 "metadata": {
  "kernelspec": {
   "display_name": "Python 3",
   "language": "python",
   "name": "python3"
  },
  "language_info": {
   "codemirror_mode": {
    "name": "ipython",
    "version": 3
   },
   "file_extension": ".py",
   "mimetype": "text/x-python",
   "name": "python",
   "nbconvert_exporter": "python",
   "pygments_lexer": "ipython3",
   "version": "3.6.1"
  }
 },
 "nbformat": 4,
 "nbformat_minor": 2
}
